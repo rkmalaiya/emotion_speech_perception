{
 "cells": [
  {
   "cell_type": "code",
   "execution_count": 6,
   "metadata": {
    "ExecuteTime": {
     "end_time": "2017-11-10T03:13:11.454524Z",
     "start_time": "2017-11-10T03:13:11.210482Z"
    },
    "collapsed": true
   },
   "outputs": [],
   "source": [
    "from sklearn.decomposition import SparsePCA\n",
    "from sklearn.manifold import TSNE\n",
    "import pandas as pd\n",
    "import numpy as np\n",
    "import matplotlib.pyplot as plt\n",
    "\n",
    "%matplotlib inline"
   ]
  },
  {
   "cell_type": "code",
   "execution_count": 28,
   "metadata": {
    "ExecuteTime": {
     "end_time": "2017-11-10T03:25:28.550657Z",
     "start_time": "2017-11-10T03:25:28.545257Z"
    }
   },
   "outputs": [],
   "source": [
    "hand_crafted = pd.read_pickle(\"hand_crafted.pkl\")\n",
    "network_learned = pd.read_pickle(\"network_learned.pkl\")"
   ]
  },
  {
   "cell_type": "code",
   "execution_count": 29,
   "metadata": {
    "ExecuteTime": {
     "end_time": "2017-11-10T03:25:29.360566Z",
     "start_time": "2017-11-10T03:25:29.355609Z"
    }
   },
   "outputs": [
    {
     "data": {
      "text/plain": [
       "((5, 154), (5, 61))"
      ]
     },
     "execution_count": 29,
     "metadata": {},
     "output_type": "execute_result"
    }
   ],
   "source": [
    "hand_crafted.shape, network_learned.shape"
   ]
  },
  {
   "cell_type": "code",
   "execution_count": 12,
   "metadata": {
    "ExecuteTime": {
     "end_time": "2017-11-10T03:18:15.240718Z",
     "start_time": "2017-11-10T03:17:32.200722Z"
    }
   },
   "outputs": [],
   "source": [
    "pca_analysis_h = SparsePCA(n_components=2)\n",
    "pca_analysis_n = SparsePCA(n_components=2)\n",
    "\n",
    "hand_crafted_pca = pca_analysis_h.fit_transform(hand_crafted)\n",
    "network_learned_pca = pca_analysis_n.fit_transform(network_learned)"
   ]
  },
  {
   "cell_type": "code",
   "execution_count": 30,
   "metadata": {
    "ExecuteTime": {
     "end_time": "2017-11-10T03:25:35.011044Z",
     "start_time": "2017-11-10T03:25:34.985255Z"
    },
    "collapsed": true
   },
   "outputs": [],
   "source": [
    "model_h = TSNE(n_components=2, random_state=0)\n",
    "model_n = TSNE(n_components=2, random_state=0)\n",
    "\n",
    "hand_crafted_tsne = model_h.fit_transform(hand_crafted)\n",
    "network_learned_tsne = model_n.fit_transform(network_learned)"
   ]
  },
  {
   "cell_type": "code",
   "execution_count": 31,
   "metadata": {
    "ExecuteTime": {
     "end_time": "2017-11-10T03:25:36.087223Z",
     "start_time": "2017-11-10T03:25:36.059201Z"
    }
   },
   "outputs": [
    {
     "data": {
      "text/html": [
       "<div>\n",
       "<style>\n",
       "    .dataframe thead tr:only-child th {\n",
       "        text-align: right;\n",
       "    }\n",
       "\n",
       "    .dataframe thead th {\n",
       "        text-align: left;\n",
       "    }\n",
       "\n",
       "    .dataframe tbody tr th {\n",
       "        vertical-align: top;\n",
       "    }\n",
       "</style>\n",
       "<table border=\"1\" class=\"dataframe\">\n",
       "  <thead>\n",
       "    <tr style=\"text-align: right;\">\n",
       "      <th></th>\n",
       "      <th>0</th>\n",
       "      <th>1</th>\n",
       "      <th>2</th>\n",
       "      <th>3</th>\n",
       "      <th>4</th>\n",
       "      <th>5</th>\n",
       "      <th>6</th>\n",
       "      <th>7</th>\n",
       "      <th>8</th>\n",
       "      <th>9</th>\n",
       "      <th>...</th>\n",
       "      <th>144</th>\n",
       "      <th>145</th>\n",
       "      <th>146</th>\n",
       "      <th>147</th>\n",
       "      <th>148</th>\n",
       "      <th>149</th>\n",
       "      <th>150</th>\n",
       "      <th>151</th>\n",
       "      <th>152</th>\n",
       "      <th>153</th>\n",
       "    </tr>\n",
       "  </thead>\n",
       "  <tbody>\n",
       "    <tr>\n",
       "      <th>0</th>\n",
       "      <td>983.217251</td>\n",
       "      <td>904.709786</td>\n",
       "      <td>834.902668</td>\n",
       "      <td>963.871730</td>\n",
       "      <td>904.386827</td>\n",
       "      <td>712.860120</td>\n",
       "      <td>561.945614</td>\n",
       "      <td>574.618273</td>\n",
       "      <td>624.294530</td>\n",
       "      <td>679.190418</td>\n",
       "      <td>...</td>\n",
       "      <td>0.000000</td>\n",
       "      <td>0.000000</td>\n",
       "      <td>0.000000</td>\n",
       "      <td>0.000000</td>\n",
       "      <td>0.000000</td>\n",
       "      <td>0.000000</td>\n",
       "      <td>0.000000</td>\n",
       "      <td>0.00000</td>\n",
       "      <td>0.000000</td>\n",
       "      <td>0.000000</td>\n",
       "    </tr>\n",
       "    <tr>\n",
       "      <th>1</th>\n",
       "      <td>698.491889</td>\n",
       "      <td>627.533054</td>\n",
       "      <td>594.686054</td>\n",
       "      <td>616.544302</td>\n",
       "      <td>492.088074</td>\n",
       "      <td>470.531129</td>\n",
       "      <td>553.536020</td>\n",
       "      <td>598.307676</td>\n",
       "      <td>640.250804</td>\n",
       "      <td>648.212123</td>\n",
       "      <td>...</td>\n",
       "      <td>0.000000</td>\n",
       "      <td>0.000000</td>\n",
       "      <td>0.000000</td>\n",
       "      <td>0.000000</td>\n",
       "      <td>0.000000</td>\n",
       "      <td>0.000000</td>\n",
       "      <td>0.000000</td>\n",
       "      <td>0.00000</td>\n",
       "      <td>0.000000</td>\n",
       "      <td>0.000000</td>\n",
       "    </tr>\n",
       "    <tr>\n",
       "      <th>2</th>\n",
       "      <td>590.071992</td>\n",
       "      <td>664.827343</td>\n",
       "      <td>721.935988</td>\n",
       "      <td>662.940434</td>\n",
       "      <td>626.524950</td>\n",
       "      <td>638.204145</td>\n",
       "      <td>675.355376</td>\n",
       "      <td>687.894808</td>\n",
       "      <td>712.203878</td>\n",
       "      <td>681.168687</td>\n",
       "      <td>...</td>\n",
       "      <td>0.000000</td>\n",
       "      <td>0.000000</td>\n",
       "      <td>0.000000</td>\n",
       "      <td>0.000000</td>\n",
       "      <td>0.000000</td>\n",
       "      <td>0.000000</td>\n",
       "      <td>0.000000</td>\n",
       "      <td>0.00000</td>\n",
       "      <td>0.000000</td>\n",
       "      <td>0.000000</td>\n",
       "    </tr>\n",
       "    <tr>\n",
       "      <th>3</th>\n",
       "      <td>1072.944271</td>\n",
       "      <td>858.758062</td>\n",
       "      <td>741.602181</td>\n",
       "      <td>907.991974</td>\n",
       "      <td>934.233078</td>\n",
       "      <td>907.927041</td>\n",
       "      <td>886.774519</td>\n",
       "      <td>839.429176</td>\n",
       "      <td>616.720768</td>\n",
       "      <td>422.174945</td>\n",
       "      <td>...</td>\n",
       "      <td>0.000000</td>\n",
       "      <td>0.000000</td>\n",
       "      <td>0.000000</td>\n",
       "      <td>0.000000</td>\n",
       "      <td>0.000000</td>\n",
       "      <td>0.000000</td>\n",
       "      <td>0.000000</td>\n",
       "      <td>0.00000</td>\n",
       "      <td>0.000000</td>\n",
       "      <td>0.000000</td>\n",
       "    </tr>\n",
       "    <tr>\n",
       "      <th>4</th>\n",
       "      <td>762.547916</td>\n",
       "      <td>740.196688</td>\n",
       "      <td>746.733631</td>\n",
       "      <td>809.992006</td>\n",
       "      <td>806.293067</td>\n",
       "      <td>832.456837</td>\n",
       "      <td>901.344151</td>\n",
       "      <td>868.990076</td>\n",
       "      <td>875.414864</td>\n",
       "      <td>785.959846</td>\n",
       "      <td>...</td>\n",
       "      <td>680.465015</td>\n",
       "      <td>675.144809</td>\n",
       "      <td>641.008732</td>\n",
       "      <td>613.505909</td>\n",
       "      <td>637.182816</td>\n",
       "      <td>666.606745</td>\n",
       "      <td>660.007589</td>\n",
       "      <td>648.31941</td>\n",
       "      <td>642.142932</td>\n",
       "      <td>612.879279</td>\n",
       "    </tr>\n",
       "  </tbody>\n",
       "</table>\n",
       "<p>5 rows × 154 columns</p>\n",
       "</div>"
      ],
      "text/plain": [
       "           0           1           2           3           4           5    \\\n",
       "0   983.217251  904.709786  834.902668  963.871730  904.386827  712.860120   \n",
       "1   698.491889  627.533054  594.686054  616.544302  492.088074  470.531129   \n",
       "2   590.071992  664.827343  721.935988  662.940434  626.524950  638.204145   \n",
       "3  1072.944271  858.758062  741.602181  907.991974  934.233078  907.927041   \n",
       "4   762.547916  740.196688  746.733631  809.992006  806.293067  832.456837   \n",
       "\n",
       "          6           7           8           9       ...             144  \\\n",
       "0  561.945614  574.618273  624.294530  679.190418     ...        0.000000   \n",
       "1  553.536020  598.307676  640.250804  648.212123     ...        0.000000   \n",
       "2  675.355376  687.894808  712.203878  681.168687     ...        0.000000   \n",
       "3  886.774519  839.429176  616.720768  422.174945     ...        0.000000   \n",
       "4  901.344151  868.990076  875.414864  785.959846     ...      680.465015   \n",
       "\n",
       "          145         146         147         148         149         150  \\\n",
       "0    0.000000    0.000000    0.000000    0.000000    0.000000    0.000000   \n",
       "1    0.000000    0.000000    0.000000    0.000000    0.000000    0.000000   \n",
       "2    0.000000    0.000000    0.000000    0.000000    0.000000    0.000000   \n",
       "3    0.000000    0.000000    0.000000    0.000000    0.000000    0.000000   \n",
       "4  675.144809  641.008732  613.505909  637.182816  666.606745  660.007589   \n",
       "\n",
       "         151         152         153  \n",
       "0    0.00000    0.000000    0.000000  \n",
       "1    0.00000    0.000000    0.000000  \n",
       "2    0.00000    0.000000    0.000000  \n",
       "3    0.00000    0.000000    0.000000  \n",
       "4  648.31941  642.142932  612.879279  \n",
       "\n",
       "[5 rows x 154 columns]"
      ]
     },
     "execution_count": 31,
     "metadata": {},
     "output_type": "execute_result"
    }
   ],
   "source": [
    "hand_crafted"
   ]
  },
  {
   "cell_type": "code",
   "execution_count": 32,
   "metadata": {
    "ExecuteTime": {
     "end_time": "2017-11-10T03:25:38.066149Z",
     "start_time": "2017-11-10T03:25:38.037435Z"
    }
   },
   "outputs": [
    {
     "data": {
      "text/html": [
       "<div>\n",
       "<style>\n",
       "    .dataframe thead tr:only-child th {\n",
       "        text-align: right;\n",
       "    }\n",
       "\n",
       "    .dataframe thead th {\n",
       "        text-align: left;\n",
       "    }\n",
       "\n",
       "    .dataframe tbody tr th {\n",
       "        vertical-align: top;\n",
       "    }\n",
       "</style>\n",
       "<table border=\"1\" class=\"dataframe\">\n",
       "  <thead>\n",
       "    <tr style=\"text-align: right;\">\n",
       "      <th></th>\n",
       "      <th>0</th>\n",
       "      <th>1</th>\n",
       "      <th>2</th>\n",
       "      <th>3</th>\n",
       "      <th>4</th>\n",
       "      <th>5</th>\n",
       "      <th>6</th>\n",
       "      <th>7</th>\n",
       "      <th>8</th>\n",
       "      <th>9</th>\n",
       "      <th>...</th>\n",
       "      <th>51</th>\n",
       "      <th>52</th>\n",
       "      <th>53</th>\n",
       "      <th>54</th>\n",
       "      <th>55</th>\n",
       "      <th>56</th>\n",
       "      <th>57</th>\n",
       "      <th>58</th>\n",
       "      <th>59</th>\n",
       "      <th>60</th>\n",
       "    </tr>\n",
       "  </thead>\n",
       "  <tbody>\n",
       "    <tr>\n",
       "      <th>0</th>\n",
       "      <td>0.000895</td>\n",
       "      <td>-0.004436</td>\n",
       "      <td>0.005989</td>\n",
       "      <td>-0.005359</td>\n",
       "      <td>0.002613</td>\n",
       "      <td>-0.000443</td>\n",
       "      <td>0.003198</td>\n",
       "      <td>0.002532</td>\n",
       "      <td>-0.004047</td>\n",
       "      <td>-0.003400</td>\n",
       "      <td>...</td>\n",
       "      <td>0.004467</td>\n",
       "      <td>0.005449</td>\n",
       "      <td>-0.008704</td>\n",
       "      <td>0.008992</td>\n",
       "      <td>-0.001536</td>\n",
       "      <td>0.003892</td>\n",
       "      <td>0.001933</td>\n",
       "      <td>-0.002737</td>\n",
       "      <td>-0.009537</td>\n",
       "      <td>-0.008201</td>\n",
       "    </tr>\n",
       "    <tr>\n",
       "      <th>1</th>\n",
       "      <td>-0.001183</td>\n",
       "      <td>-0.004211</td>\n",
       "      <td>0.006011</td>\n",
       "      <td>-0.006273</td>\n",
       "      <td>0.002960</td>\n",
       "      <td>0.001070</td>\n",
       "      <td>0.002672</td>\n",
       "      <td>0.004552</td>\n",
       "      <td>-0.008316</td>\n",
       "      <td>-0.005119</td>\n",
       "      <td>...</td>\n",
       "      <td>0.003807</td>\n",
       "      <td>0.005362</td>\n",
       "      <td>-0.006183</td>\n",
       "      <td>0.005008</td>\n",
       "      <td>0.000033</td>\n",
       "      <td>0.007196</td>\n",
       "      <td>0.000134</td>\n",
       "      <td>-0.004507</td>\n",
       "      <td>-0.009975</td>\n",
       "      <td>-0.005500</td>\n",
       "    </tr>\n",
       "    <tr>\n",
       "      <th>2</th>\n",
       "      <td>0.001300</td>\n",
       "      <td>-0.004929</td>\n",
       "      <td>0.004004</td>\n",
       "      <td>-0.004616</td>\n",
       "      <td>0.001462</td>\n",
       "      <td>0.001370</td>\n",
       "      <td>0.002429</td>\n",
       "      <td>0.001639</td>\n",
       "      <td>-0.002072</td>\n",
       "      <td>-0.000737</td>\n",
       "      <td>...</td>\n",
       "      <td>0.003242</td>\n",
       "      <td>0.004412</td>\n",
       "      <td>-0.007673</td>\n",
       "      <td>0.009868</td>\n",
       "      <td>-0.001257</td>\n",
       "      <td>0.003938</td>\n",
       "      <td>0.001833</td>\n",
       "      <td>-0.002515</td>\n",
       "      <td>-0.007192</td>\n",
       "      <td>-0.007083</td>\n",
       "    </tr>\n",
       "    <tr>\n",
       "      <th>3</th>\n",
       "      <td>-0.004958</td>\n",
       "      <td>-0.004777</td>\n",
       "      <td>0.004823</td>\n",
       "      <td>-0.008304</td>\n",
       "      <td>0.002688</td>\n",
       "      <td>-0.001378</td>\n",
       "      <td>0.000824</td>\n",
       "      <td>0.004049</td>\n",
       "      <td>-0.009545</td>\n",
       "      <td>-0.006476</td>\n",
       "      <td>...</td>\n",
       "      <td>0.007379</td>\n",
       "      <td>0.005006</td>\n",
       "      <td>-0.004664</td>\n",
       "      <td>0.003592</td>\n",
       "      <td>0.001323</td>\n",
       "      <td>0.008035</td>\n",
       "      <td>0.003002</td>\n",
       "      <td>-0.005716</td>\n",
       "      <td>-0.011689</td>\n",
       "      <td>-0.005431</td>\n",
       "    </tr>\n",
       "    <tr>\n",
       "      <th>4</th>\n",
       "      <td>0.007074</td>\n",
       "      <td>-0.005691</td>\n",
       "      <td>0.000103</td>\n",
       "      <td>0.000115</td>\n",
       "      <td>-0.002577</td>\n",
       "      <td>0.004037</td>\n",
       "      <td>0.001223</td>\n",
       "      <td>-0.004050</td>\n",
       "      <td>0.008001</td>\n",
       "      <td>0.006684</td>\n",
       "      <td>...</td>\n",
       "      <td>0.001250</td>\n",
       "      <td>0.002146</td>\n",
       "      <td>-0.007056</td>\n",
       "      <td>0.014964</td>\n",
       "      <td>-0.001684</td>\n",
       "      <td>0.001645</td>\n",
       "      <td>0.002021</td>\n",
       "      <td>0.002147</td>\n",
       "      <td>-0.002155</td>\n",
       "      <td>-0.006647</td>\n",
       "    </tr>\n",
       "  </tbody>\n",
       "</table>\n",
       "<p>5 rows × 61 columns</p>\n",
       "</div>"
      ],
      "text/plain": [
       "         0         1         2         3         4         5         6   \\\n",
       "0  0.000895 -0.004436  0.005989 -0.005359  0.002613 -0.000443  0.003198   \n",
       "1 -0.001183 -0.004211  0.006011 -0.006273  0.002960  0.001070  0.002672   \n",
       "2  0.001300 -0.004929  0.004004 -0.004616  0.001462  0.001370  0.002429   \n",
       "3 -0.004958 -0.004777  0.004823 -0.008304  0.002688 -0.001378  0.000824   \n",
       "4  0.007074 -0.005691  0.000103  0.000115 -0.002577  0.004037  0.001223   \n",
       "\n",
       "         7         8         9     ...           51        52        53  \\\n",
       "0  0.002532 -0.004047 -0.003400    ...     0.004467  0.005449 -0.008704   \n",
       "1  0.004552 -0.008316 -0.005119    ...     0.003807  0.005362 -0.006183   \n",
       "2  0.001639 -0.002072 -0.000737    ...     0.003242  0.004412 -0.007673   \n",
       "3  0.004049 -0.009545 -0.006476    ...     0.007379  0.005006 -0.004664   \n",
       "4 -0.004050  0.008001  0.006684    ...     0.001250  0.002146 -0.007056   \n",
       "\n",
       "         54        55        56        57        58        59        60  \n",
       "0  0.008992 -0.001536  0.003892  0.001933 -0.002737 -0.009537 -0.008201  \n",
       "1  0.005008  0.000033  0.007196  0.000134 -0.004507 -0.009975 -0.005500  \n",
       "2  0.009868 -0.001257  0.003938  0.001833 -0.002515 -0.007192 -0.007083  \n",
       "3  0.003592  0.001323  0.008035  0.003002 -0.005716 -0.011689 -0.005431  \n",
       "4  0.014964 -0.001684  0.001645  0.002021  0.002147 -0.002155 -0.006647  \n",
       "\n",
       "[5 rows x 61 columns]"
      ]
     },
     "execution_count": 32,
     "metadata": {},
     "output_type": "execute_result"
    }
   ],
   "source": [
    "network_learned"
   ]
  },
  {
   "cell_type": "code",
   "execution_count": 16,
   "metadata": {
    "ExecuteTime": {
     "end_time": "2017-11-10T03:18:35.155118Z",
     "start_time": "2017-11-10T03:18:35.150134Z"
    }
   },
   "outputs": [
    {
     "data": {
      "text/plain": [
       "array([[-0.51735204,  0.22078937],\n",
       "       [-0.41561904, -0.17813991],\n",
       "       [-0.47739835,  0.02293842],\n",
       "       [-0.37977693, -0.11934091],\n",
       "       [-0.43297572,  0.95118337]])"
      ]
     },
     "execution_count": 16,
     "metadata": {},
     "output_type": "execute_result"
    }
   ],
   "source": [
    "hand_crafted_pca"
   ]
  },
  {
   "cell_type": "code",
   "execution_count": 17,
   "metadata": {
    "ExecuteTime": {
     "end_time": "2017-11-10T03:18:35.625255Z",
     "start_time": "2017-11-10T03:18:35.620592Z"
    }
   },
   "outputs": [
    {
     "data": {
      "text/plain": [
       "array([[ 0.,  0.],\n",
       "       [ 0.,  0.],\n",
       "       [ 0.,  0.],\n",
       "       [ 0.,  0.],\n",
       "       [ 0.,  0.]])"
      ]
     },
     "execution_count": 17,
     "metadata": {},
     "output_type": "execute_result"
    }
   ],
   "source": [
    "network_learned_pca"
   ]
  },
  {
   "cell_type": "code",
   "execution_count": null,
   "metadata": {
    "collapsed": true
   },
   "outputs": [],
   "source": []
  },
  {
   "cell_type": "code",
   "execution_count": 33,
   "metadata": {
    "ExecuteTime": {
     "end_time": "2017-11-10T03:25:42.251004Z",
     "start_time": "2017-11-10T03:25:42.245123Z"
    }
   },
   "outputs": [
    {
     "data": {
      "text/plain": [
       "array([[  1.75103346e-04,   4.01588798e-05],\n",
       "       [  9.80522026e-05,   2.20915811e-04],\n",
       "       [  1.85318837e-04,  -9.54697267e-05],\n",
       "       [  9.50951469e-05,  -1.44034593e-05],\n",
       "       [ -8.42489204e-06,   4.08827649e-05]])"
      ]
     },
     "execution_count": 33,
     "metadata": {},
     "output_type": "execute_result"
    }
   ],
   "source": [
    "hand_crafted_tsne"
   ]
  },
  {
   "cell_type": "code",
   "execution_count": 34,
   "metadata": {
    "ExecuteTime": {
     "end_time": "2017-11-10T03:25:43.453668Z",
     "start_time": "2017-11-10T03:25:43.448125Z"
    }
   },
   "outputs": [
    {
     "data": {
      "text/plain": [
       "array([[  1.75329177e-04,   4.02452703e-05],\n",
       "       [  9.80375835e-05,   2.20807666e-04],\n",
       "       [  1.85555998e-04,  -9.50693050e-05],\n",
       "       [  9.52108235e-05,  -1.44230076e-05],\n",
       "       [ -8.52988774e-06,   4.08117182e-05]])"
      ]
     },
     "execution_count": 34,
     "metadata": {},
     "output_type": "execute_result"
    }
   ],
   "source": [
    "network_learned_tsne"
   ]
  },
  {
   "cell_type": "code",
   "execution_count": 35,
   "metadata": {
    "ExecuteTime": {
     "end_time": "2017-11-10T03:28:35.173721Z",
     "start_time": "2017-11-10T03:28:35.167620Z"
    }
   },
   "outputs": [
    {
     "data": {
      "text/plain": [
       "array([ -4.59053490e-07,  -2.88071549e-07])"
      ]
     },
     "execution_count": 35,
     "metadata": {},
     "output_type": "execute_result"
    }
   ],
   "source": [
    "sum(hand_crafted_tsne - network_learned_tnse)"
   ]
  },
  {
   "cell_type": "code",
   "execution_count": 26,
   "metadata": {
    "ExecuteTime": {
     "end_time": "2017-11-10T03:24:21.695078Z",
     "start_time": "2017-11-10T03:24:21.525916Z"
    }
   },
   "outputs": [
    {
     "data": {
      "text/plain": [
       "<matplotlib.collections.PathCollection at 0x7f2dc696cc18>"
      ]
     },
     "execution_count": 26,
     "metadata": {},
     "output_type": "execute_result"
    },
    {
     "data": {
      "image/png": "[encoded data removed]",
      "text/plain": [
       "<matplotlib.figure.Figure at 0x7f2dc679e8d0>"
      ]
     },
     "metadata": {},
     "output_type": "display_data"
    }
   ],
   "source": [
    "plt.scatter(hand_crafted_pca[0], hand_crafted_pca[1])\n",
    "plt.scatter(network_learned_pca[0], network_learned_pca[1])\n"
   ]
  },
  {
   "cell_type": "code",
   "execution_count": 36,
   "metadata": {
    "ExecuteTime": {
     "end_time": "2017-11-10T03:29:13.796582Z",
     "start_time": "2017-11-10T03:29:13.489302Z"
    }
   },
   "outputs": [
    {
     "data": {
      "text/plain": [
       "<matplotlib.collections.PathCollection at 0x7f2dc64a0be0>"
      ]
     },
     "execution_count": 36,
     "metadata": {},
     "output_type": "execute_result"
    },
    {
     "data": {
      "image/png": "[encoded data removed]",
      "text/plain": [
       "<matplotlib.figure.Figure at 0x7f2dc64a76a0>"
      ]
     },
     "metadata": {},
     "output_type": "display_data"
    }
   ],
   "source": [
    "plt.scatter(hand_crafted_tsne[0] * 1e6, hand_crafted_tsne[1] * 1e6)\n",
    "plt.scatter(network_learned_tsne[0] * 1e6, network_learned_tsne[1] * 1e6)\n"
   ]
  },
  {
   "cell_type": "code",
   "execution_count": null,
   "metadata": {
    "collapsed": true
   },
   "outputs": [],
   "source": []
  }
 ],
 "metadata": {
  "kernelspec": {
   "display_name": "Python [conda env:p3]",
   "language": "python",
   "name": "conda-env-p3-py"
  },
  "language_info": {
   "codemirror_mode": {
    "name": "ipython",
    "version": 3
   },
   "file_extension": ".py",
   "mimetype": "text/x-python",
   "name": "python",
   "nbconvert_exporter": "python",
   "pygments_lexer": "ipython3",
   "version": "3.6.2"
  }
 },
 "nbformat": 4,
 "nbformat_minor": 2
}
